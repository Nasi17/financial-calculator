{
 "cells": [
  {
   "cell_type": "code",
   "execution_count": null,
   "id": "6b5353ff",
   "metadata": {},
   "outputs": [
    {
     "name": "stdout",
     "output_type": "stream",
     "text": [
      "Welcome to the Finance Calculators!\n",
      "Please select an option:\n",
      "1. Investment\n",
      "2. Bond\n"
     ]
    }
   ],
   "source": [
    "# calculator\n",
    "\n",
    "import math\n",
    "\n",
    "def calculate_investment():\n",
    "    principal = float(input(\"Enter the amount of money you are depositing: \"))\n",
    "    rate = float(input(\"Enter the interest rate (as a percentage): \")) / 100\n",
    "    years = int(input(\"Enter the number of years for investment: \"))\n",
    "    interest = input(\"Enter 'simple' or 'compound' interest: \")\n",
    "\n",
    "    if interest.lower() == \"simple\":\n",
    "        amount = principal * (1 + rate * years)\n",
    "    elif interest.lower() == \"compound\":\n",
    "        amount = principal * math.pow((1 + rate), years)\n",
    "    else:\n",
    "        print(\"Invalid interest type. Please choose 'simple' or 'compound'.\")\n",
    "        return\n",
    "\n",
    "    print(\"The total amount after\", years, \"years at an interest rate of\", rate * 100, \"% will be:\", amount)\n",
    "\n",
    "\n",
    "def calculate_bond():\n",
    "    present_value = float(input(\"Enter the present value of the house: \"))\n",
    "    interest_rate = float(input(\"Enter the annual interest rate: \"))\n",
    "    months = int(input(\"Enter the number of months to repay the bond: \"))\n",
    "\n",
    "    monthly_interest_rate = interest_rate / (12 * 100)\n",
    "    numerator = monthly_interest_rate * present_value\n",
    "    denominator = 1 - math.pow((1 + monthly_interest_rate), -months)\n",
    "\n",
    "    repayment = numerator / denominator\n",
    "\n",
    "    print(\"The monthly repayment amount for the bond is:\", repayment)\n",
    "\n",
    "\n",
    "def finance_calculators():\n",
    "    print(\"Welcome to the Finance Calculators!\")\n",
    "    print(\"Please select an option:\")\n",
    "    print(\"1. Investment\")\n",
    "    print(\"2. Bond\")\n",
    "\n",
    "    choice = input(\"Enter your choice (1 or 2): \")\n",
    "\n",
    "    if choice == \"1\":\n",
    "        calculate_investment()\n",
    "    elif choice == \"2\":\n",
    "        calculate_bond()\n",
    "    else:\n",
    "        print(\"Invalid choice. Please enter either 1 or 2.\")\n",
    "\n",
    "\n",
    "finance_calculators()\n"
   ]
  },
  {
   "cell_type": "code",
   "execution_count": null,
   "id": "49bfff68",
   "metadata": {},
   "outputs": [],
   "source": []
  }
 ],
 "metadata": {
  "kernelspec": {
   "display_name": "Python 3 (ipykernel)",
   "language": "python",
   "name": "python3"
  },
  "language_info": {
   "codemirror_mode": {
    "name": "ipython",
    "version": 3
   },
   "file_extension": ".py",
   "mimetype": "text/x-python",
   "name": "python",
   "nbconvert_exporter": "python",
   "pygments_lexer": "ipython3",
   "version": "3.11.3"
  }
 },
 "nbformat": 4,
 "nbformat_minor": 5
}
